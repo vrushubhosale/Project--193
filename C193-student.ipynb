{
 "cells": [
  {
   "cell_type": "code",
   "execution_count": 5,
   "metadata": {},
   "outputs": [
    {
     "name": "stdout",
     "output_type": "stream",
     "text": [
      "Name : \n",
      "We will learn how to group by date and plot a line graph for the confidence of the data collected by satellites\n",
      "Then we will group by date and get the maximum brightness and temperature of the fire\n",
      "And plot a line graph for showing the correlation between brightness and temperature of fire\n"
     ]
    }
   ],
   "source": [
    "print(\"Name : \")\n",
    "print(\"We will learn how to group by date and plot a line graph for the confidence of the data collected by satellites\")\n",
    "print(\"Then we will group by date and get the maximum brightness and temperature of the fire\")\n",
    "print(\"And plot a line graph for showing the correlation between brightness and temperature of fire\")"
   ]
  },
  {
   "cell_type": "code",
   "execution_count": 1,
   "metadata": {},
   "outputs": [
    {
     "ename": "ModuleNotFoundError",
     "evalue": "No module named 'pandas'",
     "output_type": "error",
     "traceback": [
      "\u001b[1;31m---------------------------------------------------------------------------\u001b[0m",
      "\u001b[1;31mModuleNotFoundError\u001b[0m                       Traceback (most recent call last)",
      "\u001b[1;32md:\\One Drive Backup\\OneDrive\\Desktop\\Codding\\Jupiter Notebook\\ADV-C191-Student\\ADV-C193-Student\\ADV-C193-Student\\C193-student.ipynb Cell 2'\u001b[0m in \u001b[0;36m<module>\u001b[1;34m\u001b[0m\n\u001b[1;32m----> <a href='vscode-notebook-cell:/d%3A/One%20Drive%20Backup/OneDrive/Desktop/Codding/Jupiter%20Notebook/ADV-C191-Student/ADV-C193-Student/ADV-C193-Student/C193-student.ipynb#ch0000001?line=0'>1</a>\u001b[0m \u001b[39mimport\u001b[39;00m \u001b[39mpandas\u001b[39;00m \u001b[39mas\u001b[39;00m \u001b[39mpd\u001b[39;00m\n\u001b[0;32m      <a href='vscode-notebook-cell:/d%3A/One%20Drive%20Backup/OneDrive/Desktop/Codding/Jupiter%20Notebook/ADV-C191-Student/ADV-C193-Student/ADV-C193-Student/C193-student.ipynb#ch0000001?line=1'>2</a>\u001b[0m \u001b[39mimport\u001b[39;00m \u001b[39mmatplotlib\u001b[39;00m\u001b[39m.\u001b[39;00m\u001b[39mpyplot\u001b[39;00m \u001b[39mas\u001b[39;00m \u001b[39mplt\u001b[39;00m \n\u001b[0;32m      <a href='vscode-notebook-cell:/d%3A/One%20Drive%20Backup/OneDrive/Desktop/Codding/Jupiter%20Notebook/ADV-C191-Student/ADV-C193-Student/ADV-C193-Student/C193-student.ipynb#ch0000001?line=3'>4</a>\u001b[0m df \u001b[39m=\u001b[39m pd\u001b[39m.\u001b[39mread_csv(\u001b[39m'\u001b[39m\u001b[39maustralia_bushfire.csv\u001b[39m\u001b[39m'\u001b[39m)\n",
      "\u001b[1;31mModuleNotFoundError\u001b[0m: No module named 'pandas'"
     ]
    }
   ],
   "source": [
    "import pandas as pd\n",
    "import matplotlib.pyplot as plt \n",
    "\n",
    "df = pd.read_csv('australia_bushfire.csv')\n",
    "df['month'] = pd.DatetimeIndex(df['acq_date']).month\n",
    "df"
   ]
  },
  {
   "cell_type": "code",
   "execution_count": 2,
   "metadata": {},
   "outputs": [
    {
     "ename": "NameError",
     "evalue": "name 'df' is not defined",
     "output_type": "error",
     "traceback": [
      "\u001b[1;31m---------------------------------------------------------------------------\u001b[0m",
      "\u001b[1;31mNameError\u001b[0m                                 Traceback (most recent call last)",
      "\u001b[1;32md:\\One Drive Backup\\OneDrive\\Desktop\\Codding\\Jupiter Notebook\\ADV-C191-Student\\ADV-C193-Student\\ADV-C193-Student\\C193-student.ipynb Cell 3'\u001b[0m in \u001b[0;36m<module>\u001b[1;34m\u001b[0m\n\u001b[0;32m      <a href='vscode-notebook-cell:/d%3A/One%20Drive%20Backup/OneDrive/Desktop/Codding/Jupiter%20Notebook/ADV-C191-Student/ADV-C193-Student/ADV-C193-Student/C193-student.ipynb#ch0000002?line=0'>1</a>\u001b[0m \u001b[39m#Activity 1\u001b[39;00m\n\u001b[0;32m      <a href='vscode-notebook-cell:/d%3A/One%20Drive%20Backup/OneDrive/Desktop/Codding/Jupiter%20Notebook/ADV-C191-Student/ADV-C193-Student/ADV-C193-Student/C193-student.ipynb#ch0000002?line=1'>2</a>\u001b[0m \u001b[39m#Group by data and plot a line graph for the average confidence of the satellites for collecting data\u001b[39;00m\n\u001b[1;32m----> <a href='vscode-notebook-cell:/d%3A/One%20Drive%20Backup/OneDrive/Desktop/Codding/Jupiter%20Notebook/ADV-C191-Student/ADV-C193-Student/ADV-C193-Student/C193-student.ipynb#ch0000002?line=3'>4</a>\u001b[0m group_by_date \u001b[39m=\u001b[39m df\u001b[39m.\u001b[39mgroupby(\u001b[39m'\u001b[39m\u001b[39macq_date\u001b[39m\u001b[39m'\u001b[39m)[\u001b[39m'\u001b[39m\u001b[39mconfidence\u001b[39m\u001b[39m'\u001b[39m]\u001b[39m.\u001b[39mmean()\u001b[39m.\u001b[39mreset_index(name\u001b[39m=\u001b[39m\u001b[39m'\u001b[39m\u001b[39mconfidence\u001b[39m\u001b[39m'\u001b[39m)\n\u001b[0;32m      <a href='vscode-notebook-cell:/d%3A/One%20Drive%20Backup/OneDrive/Desktop/Codding/Jupiter%20Notebook/ADV-C191-Student/ADV-C193-Student/ADV-C193-Student/C193-student.ipynb#ch0000002?line=4'>5</a>\u001b[0m group_by_date\n",
      "\u001b[1;31mNameError\u001b[0m: name 'df' is not defined"
     ]
    }
   ],
   "source": [
    "#Activity 1\n",
    "#Group by data and plot a line graph for the average confidence of the satellites for collecting data\n",
    "\n",
    "group_by_date = df.groupby('acq_date')['confidence'].mean().reset_index(name='confidence')\n",
    "group_by_date\n",
    "\n"
   ]
  },
  {
   "cell_type": "code",
   "execution_count": 3,
   "metadata": {},
   "outputs": [
    {
     "ename": "NameError",
     "evalue": "name 'group_by_date' is not defined",
     "output_type": "error",
     "traceback": [
      "\u001b[1;31m---------------------------------------------------------------------------\u001b[0m",
      "\u001b[1;31mNameError\u001b[0m                                 Traceback (most recent call last)",
      "\u001b[1;32md:\\One Drive Backup\\OneDrive\\Desktop\\Codding\\Jupiter Notebook\\ADV-C191-Student\\ADV-C193-Student\\ADV-C193-Student\\C193-student.ipynb Cell 4'\u001b[0m in \u001b[0;36m<module>\u001b[1;34m\u001b[0m\n\u001b[1;32m----> <a href='vscode-notebook-cell:/d%3A/One%20Drive%20Backup/OneDrive/Desktop/Codding/Jupiter%20Notebook/ADV-C191-Student/ADV-C193-Student/ADV-C193-Student/C193-student.ipynb#ch0000003?line=0'>1</a>\u001b[0m label \u001b[39m=\u001b[39m group_by_date[\u001b[39m'\u001b[39m\u001b[39macq_date\u001b[39m\u001b[39m'\u001b[39m]\n\u001b[0;32m      <a href='vscode-notebook-cell:/d%3A/One%20Drive%20Backup/OneDrive/Desktop/Codding/Jupiter%20Notebook/ADV-C191-Student/ADV-C193-Student/ADV-C193-Student/C193-student.ipynb#ch0000003?line=1'>2</a>\u001b[0m value \u001b[39m=\u001b[39m group_by_date[\u001b[39m'\u001b[39m\u001b[39mconfidence\u001b[39m\u001b[39m'\u001b[39m]\n\u001b[0;32m      <a href='vscode-notebook-cell:/d%3A/One%20Drive%20Backup/OneDrive/Desktop/Codding/Jupiter%20Notebook/ADV-C191-Student/ADV-C193-Student/ADV-C193-Student/C193-student.ipynb#ch0000003?line=3'>4</a>\u001b[0m fig \u001b[39m=\u001b[39m plt\u001b[39m.\u001b[39msubplots(figsize\u001b[39m=\u001b[39m(\u001b[39m19\u001b[39m,\u001b[39m8\u001b[39m))\n",
      "\u001b[1;31mNameError\u001b[0m: name 'group_by_date' is not defined"
     ]
    }
   ],
   "source": [
    "label = group_by_date['acq_date']\n",
    "value = group_by_date['confidence']\n",
    "\n",
    "fig = plt.subplots(figsize=(19,8))\n",
    "\n",
    "plt.plot(label, value, label = \"Average confidence as per date\" , linewidth=3.0)\n",
    "plt.xlabel('Dates')\n",
    "plt.xticks(rotation='vertical')\n",
    "\n",
    "plt.ylabel('confidence')\n",
    "\n",
    "plt.title('Average confidence as per date', fontsize=20)\n",
    "\n",
    "plt.legend()\n",
    "\n",
    "plt.show()\n"
   ]
  },
  {
   "cell_type": "markdown",
   "metadata": {},
   "source": [
    "Conclusion - The data captured by the satellite is almost 65 percent confident (accurate)\n"
   ]
  },
  {
   "cell_type": "code",
   "execution_count": 4,
   "metadata": {},
   "outputs": [
    {
     "ename": "NameError",
     "evalue": "name 'df' is not defined",
     "output_type": "error",
     "traceback": [
      "\u001b[1;31m---------------------------------------------------------------------------\u001b[0m",
      "\u001b[1;31mNameError\u001b[0m                                 Traceback (most recent call last)",
      "\u001b[1;32md:\\One Drive Backup\\OneDrive\\Desktop\\Codding\\Jupiter Notebook\\ADV-C191-Student\\ADV-C193-Student\\ADV-C193-Student\\C193-student.ipynb Cell 6'\u001b[0m in \u001b[0;36m<module>\u001b[1;34m\u001b[0m\n\u001b[0;32m      <a href='vscode-notebook-cell:/d%3A/One%20Drive%20Backup/OneDrive/Desktop/Codding/Jupiter%20Notebook/ADV-C191-Student/ADV-C193-Student/ADV-C193-Student/C193-student.ipynb#ch0000005?line=0'>1</a>\u001b[0m \u001b[39m#Activity 2\u001b[39;00m\n\u001b[0;32m      <a href='vscode-notebook-cell:/d%3A/One%20Drive%20Backup/OneDrive/Desktop/Codding/Jupiter%20Notebook/ADV-C191-Student/ADV-C193-Student/ADV-C193-Student/C193-student.ipynb#ch0000005?line=1'>2</a>\u001b[0m \u001b[39m#Show a correlation between the brightness of fire and temperature of fire using line graph\u001b[39;00m\n\u001b[0;32m      <a href='vscode-notebook-cell:/d%3A/One%20Drive%20Backup/OneDrive/Desktop/Codding/Jupiter%20Notebook/ADV-C191-Student/ADV-C193-Student/ADV-C193-Student/C193-student.ipynb#ch0000005?line=2'>3</a>\u001b[0m \n\u001b[0;32m      <a href='vscode-notebook-cell:/d%3A/One%20Drive%20Backup/OneDrive/Desktop/Codding/Jupiter%20Notebook/ADV-C191-Student/ADV-C193-Student/ADV-C193-Student/C193-student.ipynb#ch0000005?line=3'>4</a>\u001b[0m \u001b[39m#First - group by date, and find out Max Brightness and create a dataframe out of it\u001b[39;00m\n\u001b[1;32m----> <a href='vscode-notebook-cell:/d%3A/One%20Drive%20Backup/OneDrive/Desktop/Codding/Jupiter%20Notebook/ADV-C191-Student/ADV-C193-Student/ADV-C193-Student/C193-student.ipynb#ch0000005?line=4'>5</a>\u001b[0m group_by_date_max_brightness \u001b[39m=\u001b[39m df\u001b[39m.\u001b[39mgroupby(\u001b[39m'\u001b[39m\u001b[39macq_date\u001b[39m\u001b[39m'\u001b[39m)[\u001b[39m'\u001b[39m\u001b[39mbrightness\u001b[39m\u001b[39m'\u001b[39m]\u001b[39m.\u001b[39mmax()\u001b[39m.\u001b[39mreset_index()\n\u001b[0;32m      <a href='vscode-notebook-cell:/d%3A/One%20Drive%20Backup/OneDrive/Desktop/Codding/Jupiter%20Notebook/ADV-C191-Student/ADV-C193-Student/ADV-C193-Student/C193-student.ipynb#ch0000005?line=5'>6</a>\u001b[0m group_by_date_max_brightness\n",
      "\u001b[1;31mNameError\u001b[0m: name 'df' is not defined"
     ]
    }
   ],
   "source": [
    "#Activity 2\n",
    "#Show a correlation between the brightness of fire and temperature of fire using line graph\n",
    "\n",
    "#First - group by date, and find out Max Brightness and create a dataframe out of it\n",
    "group_by_date_max_brightness = df.groupby('acq_date')['brightness'].max().reset_index()\n",
    "group_by_date_max_brightness"
   ]
  },
  {
   "cell_type": "code",
   "execution_count": 5,
   "metadata": {},
   "outputs": [
    {
     "ename": "NameError",
     "evalue": "name 'df' is not defined",
     "output_type": "error",
     "traceback": [
      "\u001b[1;31m---------------------------------------------------------------------------\u001b[0m",
      "\u001b[1;31mNameError\u001b[0m                                 Traceback (most recent call last)",
      "\u001b[1;32md:\\One Drive Backup\\OneDrive\\Desktop\\Codding\\Jupiter Notebook\\ADV-C191-Student\\ADV-C193-Student\\ADV-C193-Student\\C193-student.ipynb Cell 7'\u001b[0m in \u001b[0;36m<module>\u001b[1;34m\u001b[0m\n\u001b[0;32m      <a href='vscode-notebook-cell:/d%3A/One%20Drive%20Backup/OneDrive/Desktop/Codding/Jupiter%20Notebook/ADV-C191-Student/ADV-C193-Student/ADV-C193-Student/C193-student.ipynb#ch0000006?line=0'>1</a>\u001b[0m \u001b[39m#Second - group by date, and find out Max Temperature and create a dataframe out of it\u001b[39;00m\n\u001b[1;32m----> <a href='vscode-notebook-cell:/d%3A/One%20Drive%20Backup/OneDrive/Desktop/Codding/Jupiter%20Notebook/ADV-C191-Student/ADV-C193-Student/ADV-C193-Student/C193-student.ipynb#ch0000006?line=1'>2</a>\u001b[0m group_by_date_max_temperature \u001b[39m=\u001b[39m df\u001b[39m.\u001b[39mgroupby(\u001b[39m'\u001b[39m\u001b[39macq_date\u001b[39m\u001b[39m'\u001b[39m)[\u001b[39m'\u001b[39m\u001b[39mbright_t31\u001b[39m\u001b[39m'\u001b[39m]\u001b[39m.\u001b[39mmax()\u001b[39m.\u001b[39mreset_index()\n\u001b[0;32m      <a href='vscode-notebook-cell:/d%3A/One%20Drive%20Backup/OneDrive/Desktop/Codding/Jupiter%20Notebook/ADV-C191-Student/ADV-C193-Student/ADV-C193-Student/C193-student.ipynb#ch0000006?line=2'>3</a>\u001b[0m group_by_date_max_temperature\n",
      "\u001b[1;31mNameError\u001b[0m: name 'df' is not defined"
     ]
    }
   ],
   "source": [
    "#Second - group by date, and find out Max Temperature and create a dataframe out of it\n",
    "group_by_date_max_temperature = df.groupby('acq_date')['bright_t31'].max().reset_index()\n",
    "group_by_date_max_temperature"
   ]
  },
  {
   "cell_type": "code",
   "execution_count": 6,
   "metadata": {},
   "outputs": [
    {
     "ename": "NameError",
     "evalue": "name 'group_by_date_max_brightness' is not defined",
     "output_type": "error",
     "traceback": [
      "\u001b[1;31m---------------------------------------------------------------------------\u001b[0m",
      "\u001b[1;31mNameError\u001b[0m                                 Traceback (most recent call last)",
      "\u001b[1;32md:\\One Drive Backup\\OneDrive\\Desktop\\Codding\\Jupiter Notebook\\ADV-C191-Student\\ADV-C193-Student\\ADV-C193-Student\\C193-student.ipynb Cell 8'\u001b[0m in \u001b[0;36m<module>\u001b[1;34m\u001b[0m\n\u001b[0;32m      <a href='vscode-notebook-cell:/d%3A/One%20Drive%20Backup/OneDrive/Desktop/Codding/Jupiter%20Notebook/ADV-C191-Student/ADV-C193-Student/ADV-C193-Student/C193-student.ipynb#ch0000007?line=0'>1</a>\u001b[0m \u001b[39m#Thrid - get the data and brightness from group by date max brightness and store in respective variable\u001b[39;00m\n\u001b[1;32m----> <a href='vscode-notebook-cell:/d%3A/One%20Drive%20Backup/OneDrive/Desktop/Codding/Jupiter%20Notebook/ADV-C191-Student/ADV-C193-Student/ADV-C193-Student/C193-student.ipynb#ch0000007?line=1'>2</a>\u001b[0m brightness_label \u001b[39m=\u001b[39m group_by_date_max_brightness[\u001b[39m'\u001b[39m\u001b[39macq_date\u001b[39m\u001b[39m'\u001b[39m]\n\u001b[0;32m      <a href='vscode-notebook-cell:/d%3A/One%20Drive%20Backup/OneDrive/Desktop/Codding/Jupiter%20Notebook/ADV-C191-Student/ADV-C193-Student/ADV-C193-Student/C193-student.ipynb#ch0000007?line=2'>3</a>\u001b[0m brightness_value \u001b[39m=\u001b[39m group_by_date_max_brightness[\u001b[39m'\u001b[39m\u001b[39mbrightness\u001b[39m\u001b[39m'\u001b[39m]\n\u001b[0;32m      <a href='vscode-notebook-cell:/d%3A/One%20Drive%20Backup/OneDrive/Desktop/Codding/Jupiter%20Notebook/ADV-C191-Student/ADV-C193-Student/ADV-C193-Student/C193-student.ipynb#ch0000007?line=4'>5</a>\u001b[0m fig \u001b[39m=\u001b[39m plt\u001b[39m.\u001b[39msubplots(figsize\u001b[39m=\u001b[39m(\u001b[39m19\u001b[39m,\u001b[39m8\u001b[39m))\n",
      "\u001b[1;31mNameError\u001b[0m: name 'group_by_date_max_brightness' is not defined"
     ]
    }
   ],
   "source": [
    "#Thrid - get the data and brightness from group by date max brightness and store in respective variable\n",
    "brightness_label = group_by_date_max_brightness['acq_date']\n",
    "brightness_value = group_by_date_max_brightness['brightness']\n",
    "\n",
    "fig = plt.subplots(figsize=(19,8))\n",
    "#Forth - plot first line graph for max brightness by date\n",
    "plt.plot(brightness_label, brightness_value, label = \"Max Brightness\", linewidth=3.0)\n",
    "#Fifth - get the data and Temperature from group by date max Temperature and store in respective variable\n",
    "temperature_label = group_by_date_max_temperature['acq_date']\n",
    "temperature_value = group_by_date_max_temperature['bright_t31']\n",
    "#Sixth - plot second line graph for max Temperature by date\n",
    "plt.plot(temperature_label, temperature_value, label = \"Max Temperature\", linewidth=3.0)\n",
    "\n",
    "plt.xlabel('Date')\n",
    "plt.xticks(rotation='vertical')\n",
    "\n",
    "plt.title('CORELATION BETWEEN THE BRIGHTNESS OF FIRE AND TEMPERATURE OF FIRE USING LINE GRAPH', fontsize=20)\n",
    "\n",
    "plt.legend()\n",
    "plt.show()"
   ]
  },
  {
   "cell_type": "markdown",
   "metadata": {},
   "source": [
    "Conclusion - "
   ]
  },
  {
   "cell_type": "code",
   "execution_count": null,
   "metadata": {},
   "outputs": [],
   "source": []
  }
 ],
 "metadata": {
  "kernelspec": {
   "display_name": "Python 3",
   "language": "python",
   "name": "python3"
  },
  "language_info": {
   "codemirror_mode": {
    "name": "ipython",
    "version": 3
   },
   "file_extension": ".py",
   "mimetype": "text/x-python",
   "name": "python",
   "nbconvert_exporter": "python",
   "pygments_lexer": "ipython3",
   "version": "3.8.0"
  }
 },
 "nbformat": 4,
 "nbformat_minor": 4
}
